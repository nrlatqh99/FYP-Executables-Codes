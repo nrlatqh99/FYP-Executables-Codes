{
 "cells": [
  {
   "cell_type": "code",
   "execution_count": 20,
   "id": "faf61e77",
   "metadata": {},
   "outputs": [
    {
     "name": "stdout",
     "output_type": "stream",
     "text": [
      "Collecting en-core-web-md==3.0.0\n",
      "  Downloading https://github.com/explosion/spacy-models/releases/download/en_core_web_md-3.0.0/en_core_web_md-3.0.0-py3-none-any.whl (47.1 MB)\n",
      "Requirement already satisfied: spacy<3.1.0,>=3.0.0 in c:\\users\\acer\\anaconda3\\lib\\site-packages (from en-core-web-md==3.0.0) (3.0.7)\n",
      "Requirement already satisfied: packaging>=20.0 in c:\\users\\acer\\anaconda3\\lib\\site-packages (from spacy<3.1.0,>=3.0.0->en-core-web-md==3.0.0) (20.9)\n",
      "Requirement already satisfied: typer<0.4.0,>=0.3.0 in c:\\users\\acer\\anaconda3\\lib\\site-packages (from spacy<3.1.0,>=3.0.0->en-core-web-md==3.0.0) (0.3.2)\n",
      "Requirement already satisfied: preshed<3.1.0,>=3.0.2 in c:\\users\\acer\\anaconda3\\lib\\site-packages (from spacy<3.1.0,>=3.0.0->en-core-web-md==3.0.0) (3.0.6)\n",
      "Requirement already satisfied: pydantic!=1.8,!=1.8.1,<1.9.0,>=1.7.4 in c:\\users\\acer\\anaconda3\\lib\\site-packages (from spacy<3.1.0,>=3.0.0->en-core-web-md==3.0.0) (1.8.2)\n",
      "Requirement already satisfied: wasabi<1.1.0,>=0.8.1 in c:\\users\\acer\\anaconda3\\lib\\site-packages (from spacy<3.1.0,>=3.0.0->en-core-web-md==3.0.0) (0.9.0)\n",
      "Requirement already satisfied: numpy>=1.15.0 in c:\\users\\acer\\anaconda3\\lib\\site-packages (from spacy<3.1.0,>=3.0.0->en-core-web-md==3.0.0) (1.20.1)\n",
      "Requirement already satisfied: murmurhash<1.1.0,>=0.28.0 in c:\\users\\acer\\anaconda3\\lib\\site-packages (from spacy<3.1.0,>=3.0.0->en-core-web-md==3.0.0) (1.0.6)\n",
      "Requirement already satisfied: catalogue<2.1.0,>=2.0.4 in c:\\users\\acer\\anaconda3\\lib\\site-packages (from spacy<3.1.0,>=3.0.0->en-core-web-md==3.0.0) (2.0.6)\n",
      "Requirement already satisfied: cymem<2.1.0,>=2.0.2 in c:\\users\\acer\\anaconda3\\lib\\site-packages (from spacy<3.1.0,>=3.0.0->en-core-web-md==3.0.0) (2.0.6)\n",
      "Requirement already satisfied: srsly<3.0.0,>=2.4.1 in c:\\users\\acer\\anaconda3\\lib\\site-packages (from spacy<3.1.0,>=3.0.0->en-core-web-md==3.0.0) (2.4.2)\n",
      "Requirement already satisfied: blis<0.8.0,>=0.4.0 in c:\\users\\acer\\anaconda3\\lib\\site-packages (from spacy<3.1.0,>=3.0.0->en-core-web-md==3.0.0) (0.7.5)\n",
      "Requirement already satisfied: tqdm<5.0.0,>=4.38.0 in c:\\users\\acer\\anaconda3\\lib\\site-packages (from spacy<3.1.0,>=3.0.0->en-core-web-md==3.0.0) (4.59.0)\n",
      "Requirement already satisfied: spacy-legacy<3.1.0,>=3.0.5 in c:\\users\\acer\\anaconda3\\lib\\site-packages (from spacy<3.1.0,>=3.0.0->en-core-web-md==3.0.0) (3.0.8)\n",
      "Requirement already satisfied: pathy>=0.3.5 in c:\\users\\acer\\anaconda3\\lib\\site-packages (from spacy<3.1.0,>=3.0.0->en-core-web-md==3.0.0) (0.6.1)\n",
      "Requirement already satisfied: requests<3.0.0,>=2.13.0 in c:\\users\\acer\\anaconda3\\lib\\site-packages (from spacy<3.1.0,>=3.0.0->en-core-web-md==3.0.0) (2.25.1)\n",
      "Requirement already satisfied: jinja2 in c:\\users\\acer\\anaconda3\\lib\\site-packages (from spacy<3.1.0,>=3.0.0->en-core-web-md==3.0.0) (2.11.3)\n",
      "Requirement already satisfied: setuptools in c:\\users\\acer\\anaconda3\\lib\\site-packages (from spacy<3.1.0,>=3.0.0->en-core-web-md==3.0.0) (60.5.0)\n",
      "Requirement already satisfied: thinc<8.1.0,>=8.0.3 in c:\\users\\acer\\anaconda3\\lib\\site-packages (from spacy<3.1.0,>=3.0.0->en-core-web-md==3.0.0) (8.0.13)\n",
      "Requirement already satisfied: pyparsing>=2.0.2 in c:\\users\\acer\\anaconda3\\lib\\site-packages (from packaging>=20.0->spacy<3.1.0,>=3.0.0->en-core-web-md==3.0.0) (2.4.7)\n",
      "Requirement already satisfied: smart-open<6.0.0,>=5.0.0 in c:\\users\\acer\\anaconda3\\lib\\site-packages (from pathy>=0.3.5->spacy<3.1.0,>=3.0.0->en-core-web-md==3.0.0) (5.2.1)\n",
      "Requirement already satisfied: typing-extensions>=3.7.4.3 in c:\\users\\acer\\anaconda3\\lib\\site-packages (from pydantic!=1.8,!=1.8.1,<1.9.0,>=1.7.4->spacy<3.1.0,>=3.0.0->en-core-web-md==3.0.0) (3.7.4.3)\n",
      "Requirement already satisfied: chardet<5,>=3.0.2 in c:\\users\\acer\\anaconda3\\lib\\site-packages (from requests<3.0.0,>=2.13.0->spacy<3.1.0,>=3.0.0->en-core-web-md==3.0.0) (4.0.0)\n",
      "Requirement already satisfied: urllib3<1.27,>=1.21.1 in c:\\users\\acer\\anaconda3\\lib\\site-packages (from requests<3.0.0,>=2.13.0->spacy<3.1.0,>=3.0.0->en-core-web-md==3.0.0) (1.26.4)\n",
      "Requirement already satisfied: certifi>=2017.4.17 in c:\\users\\acer\\anaconda3\\lib\\site-packages (from requests<3.0.0,>=2.13.0->spacy<3.1.0,>=3.0.0->en-core-web-md==3.0.0) (2020.12.5)\n",
      "Requirement already satisfied: idna<3,>=2.5 in c:\\users\\acer\\anaconda3\\lib\\site-packages (from requests<3.0.0,>=2.13.0->spacy<3.1.0,>=3.0.0->en-core-web-md==3.0.0) (2.10)\n",
      "Requirement already satisfied: click<7.2.0,>=7.1.1 in c:\\users\\acer\\anaconda3\\lib\\site-packages (from typer<0.4.0,>=0.3.0->spacy<3.1.0,>=3.0.0->en-core-web-md==3.0.0) (7.1.2)\n",
      "Requirement already satisfied: MarkupSafe>=0.23 in c:\\users\\acer\\anaconda3\\lib\\site-packages (from jinja2->spacy<3.1.0,>=3.0.0->en-core-web-md==3.0.0) (1.1.1)\n",
      "[+] Download and installation successful\n",
      "You can now load the package via spacy.load('en_core_web_md')\n"
     ]
    }
   ],
   "source": [
    "#Import Libraries\n",
    "import os\n",
    "import numpy as np\n",
    "import tqdm\n",
    "from tqdm import tqdm\n",
    "import pandas as pd\n",
    "#Machine Learning\n",
    "from gensim.models import FastText\n",
    "from gensim.models.phrases import Phrases, Phraser\n",
    "from gensim.parsing.preprocessing import remove_stopwords, strip_punctuation, strip_non_alphanum\n",
    "from sklearn.feature_extraction.text import TfidfVectorizer\n",
    "from sklearn.metrics.pairwise import cosine_similarity\n",
    "#Text Pre-processing Using SpaCy\n",
    "!python -m spacy download en_core_web_md\n",
    "import spacy\n",
    "from spacy.lang.en import English\n",
    "from spacy import displacy\n",
    "nlp = spacy.load('en_core_web_md')"
   ]
  },
  {
   "cell_type": "code",
   "execution_count": 21,
   "id": "da80ae1e",
   "metadata": {},
   "outputs": [
    {
     "data": {
      "text/html": [
       "<div>\n",
       "<style scoped>\n",
       "    .dataframe tbody tr th:only-of-type {\n",
       "        vertical-align: middle;\n",
       "    }\n",
       "\n",
       "    .dataframe tbody tr th {\n",
       "        vertical-align: top;\n",
       "    }\n",
       "\n",
       "    .dataframe thead th {\n",
       "        text-align: right;\n",
       "    }\n",
       "</style>\n",
       "<table border=\"1\" class=\"dataframe\">\n",
       "  <thead>\n",
       "    <tr style=\"text-align: right;\">\n",
       "      <th></th>\n",
       "      <th>Source</th>\n",
       "      <th>Volume_No</th>\n",
       "      <th>Chapter_No</th>\n",
       "      <th>Hadith_No</th>\n",
       "      <th>Chapter</th>\n",
       "      <th>Hadith</th>\n",
       "    </tr>\n",
       "  </thead>\n",
       "  <tbody>\n",
       "    <tr>\n",
       "      <th>0</th>\n",
       "      <td>Sahih Bukhari</td>\n",
       "      <td>1</td>\n",
       "      <td>1</td>\n",
       "      <td>1</td>\n",
       "      <td>Revelation</td>\n",
       "      <td>Narrated by 'Umar bin Al-Khattab:  I heard All...</td>\n",
       "    </tr>\n",
       "    <tr>\n",
       "      <th>1</th>\n",
       "      <td>Sahih Bukhari</td>\n",
       "      <td>1</td>\n",
       "      <td>1</td>\n",
       "      <td>2</td>\n",
       "      <td>Revelation</td>\n",
       "      <td>Narrated by 'Aisha: (the mother of the faithfu...</td>\n",
       "    </tr>\n",
       "    <tr>\n",
       "      <th>2</th>\n",
       "      <td>Sahih Bukhari</td>\n",
       "      <td>1</td>\n",
       "      <td>1</td>\n",
       "      <td>3</td>\n",
       "      <td>Revelation</td>\n",
       "      <td>Narrated by 'Aisha: (the mother of the faithfu...</td>\n",
       "    </tr>\n",
       "    <tr>\n",
       "      <th>3</th>\n",
       "      <td>Sahih Bukhari</td>\n",
       "      <td>1</td>\n",
       "      <td>1</td>\n",
       "      <td>4</td>\n",
       "      <td>Revelation</td>\n",
       "      <td>Narrated by Said bin Jubair: Ibn 'Abbas in the...</td>\n",
       "    </tr>\n",
       "    <tr>\n",
       "      <th>4</th>\n",
       "      <td>Sahih Bukhari</td>\n",
       "      <td>1</td>\n",
       "      <td>1</td>\n",
       "      <td>5</td>\n",
       "      <td>Revelation</td>\n",
       "      <td>Narrated by Ibn 'Abbas: Allah's Apostle was th...</td>\n",
       "    </tr>\n",
       "  </tbody>\n",
       "</table>\n",
       "</div>"
      ],
      "text/plain": [
       "          Source  Volume_No  Chapter_No  Hadith_No     Chapter  \\\n",
       "0  Sahih Bukhari          1           1          1  Revelation   \n",
       "1  Sahih Bukhari          1           1          2  Revelation   \n",
       "2  Sahih Bukhari          1           1          3  Revelation   \n",
       "3  Sahih Bukhari          1           1          4  Revelation   \n",
       "4  Sahih Bukhari          1           1          5  Revelation   \n",
       "\n",
       "                                              Hadith  \n",
       "0  Narrated by 'Umar bin Al-Khattab:  I heard All...  \n",
       "1  Narrated by 'Aisha: (the mother of the faithfu...  \n",
       "2  Narrated by 'Aisha: (the mother of the faithfu...  \n",
       "3  Narrated by Said bin Jubair: Ibn 'Abbas in the...  \n",
       "4  Narrated by Ibn 'Abbas: Allah's Apostle was th...  "
      ]
     },
     "execution_count": 21,
     "metadata": {},
     "output_type": "execute_result"
    }
   ],
   "source": [
    "#Get the Data (Test on 3 chapters first)\n",
    "df = pd.read_csv(r\"C:\\Users\\Acer\\anaconda3\\activity\\Sahih Bukhari Dataset (3 Chapters).csv\") \n",
    "df.head()"
   ]
  },
  {
   "cell_type": "code",
   "execution_count": 22,
   "id": "55d24ce0",
   "metadata": {},
   "outputs": [],
   "source": [
    "# Use spaCy to split each of the documents into a list of words (tokenization).\n",
    "# Clean the data by removing stop words, punctuation and converting to lowercase using the Gensim library\n",
    "\n",
    "#creates a list of documents with a list of words inside:\n",
    "text = []\n",
    "for i in df.Hadith.values:\n",
    "  doc = nlp(remove_stopwords(strip_punctuation(strip_non_alphanum(str(i).lower()))))\n",
    "  tokens = [token.text for token in doc]\n",
    "  text.append(tokens)"
   ]
  },
  {
   "cell_type": "code",
   "execution_count": 23,
   "id": "540f40ed",
   "metadata": {},
   "outputs": [],
   "source": [
    "#common_terms = [\"of\", \"with\", \"without\", \"and\", \"or\", \"the\", \"a\"]\n",
    "# Create the relevant phrases from the list of sentences:\n",
    "phrases = Phrases(text, threshold = 10, min_count=5)\n",
    "# The Phraser object is used from now on to transform sentences\n",
    "bigram = Phraser(phrases)\n",
    "# Applying the Phraser to transform our sentences is simply\n",
    "tokens = list(bigram[text])"
   ]
  },
  {
   "cell_type": "code",
   "execution_count": 24,
   "id": "69524884",
   "metadata": {},
   "outputs": [],
   "source": [
    "#Train the fastText Model\n",
    "\n",
    "model = FastText(tokens, vector_size=100, window=3, min_count=1, epochs=10, sorted_vocab=1)"
   ]
  },
  {
   "cell_type": "code",
   "execution_count": 25,
   "id": "a8417402",
   "metadata": {},
   "outputs": [
    {
     "name": "stderr",
     "output_type": "stream",
     "text": [
      "100%|██████████| 137/137 [00:00<00:00, 137173.47it/s]\n",
      "C:\\Users\\ACER\\anaconda3\\lib\\site-packages\\sklearn\\utils\\deprecation.py:87: FutureWarning: Function get_feature_names is deprecated; get_feature_names is deprecated in 1.0 and will be removed in 1.2. Please use get_feature_names_out instead.\n",
      "  warnings.warn(msg, category=FutureWarning)\n"
     ]
    }
   ],
   "source": [
    "#Create TF-IDF Scores for each Word\n",
    "\n",
    "#Needs a list of lists for words and docs along with a fasttext 'model'\n",
    "text = []\n",
    "for i in tqdm(tokens):\n",
    "  string = ' '.join(i)\n",
    "  text.append(string)\n",
    "tf_idf_vect = TfidfVectorizer(stop_words=None)\n",
    "final_tf_idf = tf_idf_vect.fit_transform(text)\n",
    "tfidf_feat = tf_idf_vect.get_feature_names()"
   ]
  },
  {
   "cell_type": "code",
   "execution_count": 26,
   "id": "daed8407",
   "metadata": {},
   "outputs": [
    {
     "name": "stderr",
     "output_type": "stream",
     "text": [
      "100%|██████████| 137/137 [00:01<00:00, 99.19it/s] "
     ]
    },
    {
     "name": "stdout",
     "output_type": "stream",
     "text": [
      "errors noted: 1\n"
     ]
    },
    {
     "name": "stderr",
     "output_type": "stream",
     "text": [
      "\n"
     ]
    }
   ],
   "source": [
    "#Apply the Scores to the Vectors across each Document\n",
    "\n",
    "tfidf_sent_vectors = []; # the tfidf-w2v for each sentence/review is stored in this list\n",
    "row=0;\n",
    "errors=0\n",
    "for sent in tqdm(tokens): # for each review/sentence\n",
    "    sent_vec = np.zeros(100) # as word vectors are of zero length\n",
    "    weight_sum =0; # num of words with a valid vector in the sentence/review\n",
    "    for word in sent: # for each word in a review/sentence\n",
    "        try:\n",
    "            vec = model.wv[word]\n",
    "            # obtain the tf_idfidf of a word in a sentence/review\n",
    "            tfidf = final_tf_idf [row, tfidf_feat.index(word)]\n",
    "            sent_vec += (vec * tfidf)\n",
    "            weight_sum += tfidf\n",
    "        except:\n",
    "            errors =+1\n",
    "            pass\n",
    "    sent_vec /= weight_sum\n",
    "    #print(np.isnan(np.sum(sent_vec)))\n",
    "\n",
    "    tfidf_sent_vectors.append(sent_vec)\n",
    "    row += 1\n",
    "print('errors noted: '+str(errors))"
   ]
  },
  {
   "cell_type": "code",
   "execution_count": 27,
   "id": "7a4a18c8",
   "metadata": {},
   "outputs": [],
   "source": [
    "# join these vectors back to the dataframe:\n",
    "df['FT_tfidf'] = tfidf_sent_vectors"
   ]
  },
  {
   "cell_type": "code",
   "execution_count": 42,
   "id": "bd6a099f",
   "metadata": {},
   "outputs": [
    {
     "name": "stdout",
     "output_type": "stream",
     "text": [
      "\n",
      "\n",
      "Chapter: Revelation\n",
      "0-Narrated by 'Umar bin Al-Khattab:  I heard Allah's Apostle saying, \"The reward of deeds depends upon the intentions and every person will get the reward according to what he has intended. So whoever emigrated for worldly benefits or for a woman to marry, his emigration was for what he emigrated for.\"\n",
      "Similarity: 1.0\n",
      "\n",
      "\n",
      "Chapter: Belief\n",
      "50-Narrated by 'Umar bin Al-Khattab: Allah's Apostle said, \"The reward of deeds depends upon the intention and every person will get the reward according to what he has intended. So whoever emigrated for Allah and His Apostle, then his emigration was for Allah and His Apostle. And whoever emigrated for worldly benefits or for a woman to marry, his emigration was for what he emigrated for.\"\n",
      "Similarity: 0.9999992698543603\n",
      "\n",
      "\n",
      "Chapter: Belief\n",
      "21-Narrated by Abu Said Al-Khudri: Allah's Apostle said, \"While I was sleeping I saw (in a dream) some people wearing shirts of which some were reaching up to the breasts only while others were even shorter than that. Umar bin Al-Khattab was shown wearing a shirt that he was dragging.\" The people asked, \"How did you interpret it? (What is its interpretation) O Allah's Apostle?\" He (the Prophet ) replied, \"It is the Religion.\"\n",
      "Similarity: 0.9999967889303607\n",
      "\n",
      "\n",
      "Chapter: Knowledge\n",
      "70-Narrated by Muawiya: I heard Allah's Apostle saying, \"If Allah wants to do good to a person, He makes him comprehend the religion. I am just a distributor, but the grant is from Allah. (And remember) that this nation (true Muslims) will keep on following Allah's teachings strictly and they will not be harmed by any one going on a different path till Allah's order (Day of Judgment) is established.\"\n",
      "Similarity: 0.9999967818325207\n",
      "\n",
      "\n",
      "Chapter: Belief\n",
      "51-Narrated by Abu Mas'ud: The Prophet said, \"If a man spends on his family (with the intention of having a reward from Allah) sincerely for Allah's sake then it is a (kind of) alms-giving in reward for him.\n",
      "Similarity: 0.9999967712831637\n",
      "\n",
      "\n",
      "Chapter: Revelation\n",
      "1-Narrated by 'Aisha: (the mother of the faithful believers) Al-Harith bin Hisham asked Allah's Apostle \"O Allah's Apostle! How is the Divine Inspiration revealed to you?\" Allah's Apostle replied, \"Sometimes it is (revealed) like the ringing of a bell, this form of Inspiration is the hardest of all and then this state passes ' off after I have grasped what is inspired. Sometimes the Angel comes in the form of a man and talks to me and I grasp whatever he says.\" 'Aisha added: Verily I saw the Prophet being inspired Divinely on a very cold day and noticed the Sweat dropping from his forehead (as the Inspiration was over).\n",
      "Similarity: 0.9999966556211995\n",
      "\n",
      "\n",
      "Chapter: Belief\n",
      "24-Narrated by Abu Huraira: Allah's Apostle was asked, \"What is the best deed?\" He replied, \"To believe in Allah and His Apostle (Muhammad). The questioner then asked, \"What is the next (in goodness)? He replied, \"To participate in Jihad (religious fighting) in Allah's Cause.\" The questioner again asked, \"What is the next (in goodness)?\" He replied, \"To perform Hajj (Pilgrim age to Mecca) 'Mubrur, (which is accepted by Allah and is performed with the intention of seeking Allah's pleasure only and not to show off and without committing a sin and in accordance with the traditions of the Prophet).\"\n",
      "Similarity: 0.9999959329248187\n",
      "\n",
      "\n",
      "Chapter: Belief\n",
      "16-Narrated by 'Ubada bin As-Samit: Who took part in the battle of Badr and was a Naqib (a person heading a group of six persons), on the night of Al-'Aqaba pledge: Allah's Apostle said while a group of his companions were around him, \"Swear allegiance to me for: 1. Not to join anything in worship along with Allah. 2. Not to steal. 3. Not to commit illegal sexual intercourse. 4. Not to kill your children. 5. Not to accuse an innocent person (to spread such an accusation among people). 6. Not to be disobedient (when ordered) to do good deed.\" The Prophet added: \"Whoever among you fulfills his pledge will be rewarded by Allah. And whoever indulges in any one of them (except the ascription of partners to Allah) and gets the punishment in this world, that punishment will be an expiation for that sin. And if one indulges in any of them, and Allah conceals his sin, it is up to Him to forgive or punish him (in the Hereafter).\" 'Ubada bin As-Samit added: \"So we swore allegiance for these.\" (points to Allah's Apostle)\n",
      "Similarity: 0.9999958796770341\n",
      "\n",
      "\n",
      "Chapter: Knowledge\n",
      "114-Narrated by 'Ubaidullah bin 'Abdullah: Ibn 'Abbas said, \"When the ailment of the Prophet became worse, he said, 'Bring for me (writing) paper and I will write for you a statement after which you will not go astray.' But 'Umar said, 'The Prophet is seriously ill, and we have got Allah's Book with us and that is sufficient for us.' But the companions of the Prophet differed about this and there was a hue and cry. On that the Prophet said to them, 'Go away (and leave me alone). It is not right that you should quarrel in front of me.\" Ibn 'Abbas came out saying, \"It was most unfortunate (a great disaster) that Allah's Apostle was prevented from writing that statement for them because of their disagreement and noise. (Note: It is apparent from this Hadith that Ibn 'Abbes had witnessed the event and came out saying this statement. The truth is not so, for Ibn 'Abbas used to say this statement on narrating the Hadith and he had not witnessed the event personally. See Fath Al-Bari Vol. 1, p.220 footnote.) (See Hadith No. 228, Vol. 4).\n",
      "Similarity: 0.9999958177441985\n",
      "\n",
      "\n",
      "Chapter: Belief\n",
      "46-Narrated by Abu Huraira: One day while the Prophet was sitting in the company of some people, (The angel) Gabriel came and asked, \"What is faith?\" Allah's Apostle replied, 'Faith is to believe in Allah, His angels, (the) meeting with Him, His Apostles, and to believe in Resurrection.\" Then he further asked, \"What is Islam?\" Allah's Apostle replied, \"To worship Allah Alone and none else, to offer prayers perfectly to pay the compulsory charity (Zakat) and to observe fasts during the month of Ramadan.\" Then he further asked, \"What is Ihsan (perfection)?\" Allah's Apostle replied, \"To worship Allah as if you see Him, and if you cannot achieve this state of devotion then you must consider that He is looking at you.\" Then he further asked, \"When will the Hour be established?\" Allah's Apostle replied, \"The answerer has no better knowledge than the questioner. But I will inform you about its portents. 1. When a slave (lady) gives birth to her master. 2. When the shepherds of black camels start boasting and competing with others in the construction of higher buildings. And the Hour is one of five things which nobody knows except Allah. The Prophet then recited: \"Verily, with Allah (Alone) is the knowledge of the Hour--.\" (31. 34) Then that man (Gabriel) left and the Prophet asked his companions to call him back, but they could not see him. Then the Prophet said, \"That was Gabriel who came to teach the people their religion.\" Abu 'Abdullah said: He (the Prophet) considered all that as a part of faith.\n",
      "Similarity: 0.9999957830175721\n"
     ]
    }
   ],
   "source": [
    "#Find Similar Documents\n",
    "\n",
    "hadithText = 'reward'\n",
    "\n",
    "\n",
    "query = [df.loc[df.Hadith.str.contains(hadithText)].iloc[0]['FT_tfidf']]\n",
    "query = np.array(list(query))\n",
    "query = np.nan_to_num(query)\n",
    "\n",
    "vectors = np.array(list(df.FT_tfidf.values))\n",
    "vectors = np.nan_to_num(vectors)\n",
    "\n",
    "cosine_similarities = pd.Series(cosine_similarity(query, vectors).flatten())\n",
    "\n",
    "for i,j in cosine_similarities.nlargest(10).iteritems():\n",
    "  print (\"\\n\")\n",
    "  print (\"Chapter: \" + df.Chapter.iloc[i])\n",
    "  print(str(i) + '-' + df.Hadith.iloc[i])\n",
    "  print(\"Similarity: \" + str(j))"
   ]
  }
 ],
 "metadata": {
  "kernelspec": {
   "display_name": "Python 3",
   "language": "python",
   "name": "python3"
  },
  "language_info": {
   "codemirror_mode": {
    "name": "ipython",
    "version": 3
   },
   "file_extension": ".py",
   "mimetype": "text/x-python",
   "name": "python",
   "nbconvert_exporter": "python",
   "pygments_lexer": "ipython3",
   "version": "3.8.8"
  }
 },
 "nbformat": 4,
 "nbformat_minor": 5
}
