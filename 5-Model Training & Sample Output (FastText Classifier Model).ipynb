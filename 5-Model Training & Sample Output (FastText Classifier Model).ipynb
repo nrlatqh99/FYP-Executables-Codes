{
 "cells": [
  {
   "cell_type": "code",
   "execution_count": null,
   "id": "748154c1",
   "metadata": {},
   "outputs": [],
   "source": [
    "# Best Model Selection: FastText Word Embeddings Implementation"
   ]
  },
  {
   "cell_type": "code",
   "execution_count": 2,
   "id": "d7f60b86",
   "metadata": {
    "collapsed": true
   },
   "outputs": [
    {
     "name": "stderr",
     "output_type": "stream",
     "text": [
      "2022-02-24 08:18:11.776616: W tensorflow/stream_executor/platform/default/dso_loader.cc:64] Could not load dynamic library 'cudart64_110.dll'; dlerror: cudart64_110.dll not found\n",
      "2022-02-24 08:18:11.776723: I tensorflow/stream_executor/cuda/cudart_stub.cc:29] Ignore above cudart dlerror if you do not have a GPU set up on your machine.\n",
      "WARNING: You are using pip version 21.3.1; however, version 22.0.3 is available.\n",
      "You should consider upgrading via the 'C:\\Users\\ACER\\anaconda3\\python.exe -m pip install --upgrade pip' command.\n"
     ]
    },
    {
     "name": "stdout",
     "output_type": "stream",
     "text": [
      "Collecting en-core-web-md==3.0.0\n",
      "  Downloading https://github.com/explosion/spacy-models/releases/download/en_core_web_md-3.0.0/en_core_web_md-3.0.0-py3-none-any.whl (47.1 MB)\n",
      "Requirement already satisfied: spacy<3.1.0,>=3.0.0 in c:\\users\\acer\\anaconda3\\lib\\site-packages (from en-core-web-md==3.0.0) (3.0.7)\n",
      "Requirement already satisfied: typer<0.4.0,>=0.3.0 in c:\\users\\acer\\anaconda3\\lib\\site-packages (from spacy<3.1.0,>=3.0.0->en-core-web-md==3.0.0) (0.3.2)\n",
      "Requirement already satisfied: pydantic!=1.8,!=1.8.1,<1.9.0,>=1.7.4 in c:\\users\\acer\\anaconda3\\lib\\site-packages (from spacy<3.1.0,>=3.0.0->en-core-web-md==3.0.0) (1.8.2)\n",
      "Requirement already satisfied: wasabi<1.1.0,>=0.8.1 in c:\\users\\acer\\anaconda3\\lib\\site-packages (from spacy<3.1.0,>=3.0.0->en-core-web-md==3.0.0) (0.9.0)\n",
      "Requirement already satisfied: numpy>=1.15.0 in c:\\users\\acer\\anaconda3\\lib\\site-packages (from spacy<3.1.0,>=3.0.0->en-core-web-md==3.0.0) (1.20.1)\n",
      "Requirement already satisfied: murmurhash<1.1.0,>=0.28.0 in c:\\users\\acer\\anaconda3\\lib\\site-packages (from spacy<3.1.0,>=3.0.0->en-core-web-md==3.0.0) (1.0.6)\n",
      "Requirement already satisfied: thinc<8.1.0,>=8.0.3 in c:\\users\\acer\\anaconda3\\lib\\site-packages (from spacy<3.1.0,>=3.0.0->en-core-web-md==3.0.0) (8.0.13)\n",
      "Requirement already satisfied: requests<3.0.0,>=2.13.0 in c:\\users\\acer\\anaconda3\\lib\\site-packages (from spacy<3.1.0,>=3.0.0->en-core-web-md==3.0.0) (2.25.1)\n",
      "Requirement already satisfied: tqdm<5.0.0,>=4.38.0 in c:\\users\\acer\\anaconda3\\lib\\site-packages (from spacy<3.1.0,>=3.0.0->en-core-web-md==3.0.0) (4.59.0)\n",
      "Requirement already satisfied: jinja2 in c:\\users\\acer\\anaconda3\\lib\\site-packages (from spacy<3.1.0,>=3.0.0->en-core-web-md==3.0.0) (2.11.3)\n",
      "Requirement already satisfied: cymem<2.1.0,>=2.0.2 in c:\\users\\acer\\anaconda3\\lib\\site-packages (from spacy<3.1.0,>=3.0.0->en-core-web-md==3.0.0) (2.0.6)\n",
      "Requirement already satisfied: setuptools in c:\\users\\acer\\anaconda3\\lib\\site-packages (from spacy<3.1.0,>=3.0.0->en-core-web-md==3.0.0) (60.5.0)\n",
      "Requirement already satisfied: catalogue<2.1.0,>=2.0.4 in c:\\users\\acer\\anaconda3\\lib\\site-packages (from spacy<3.1.0,>=3.0.0->en-core-web-md==3.0.0) (2.0.6)\n",
      "Requirement already satisfied: pathy>=0.3.5 in c:\\users\\acer\\anaconda3\\lib\\site-packages (from spacy<3.1.0,>=3.0.0->en-core-web-md==3.0.0) (0.6.1)\n",
      "Requirement already satisfied: preshed<3.1.0,>=3.0.2 in c:\\users\\acer\\anaconda3\\lib\\site-packages (from spacy<3.1.0,>=3.0.0->en-core-web-md==3.0.0) (3.0.6)\n",
      "Requirement already satisfied: srsly<3.0.0,>=2.4.1 in c:\\users\\acer\\anaconda3\\lib\\site-packages (from spacy<3.1.0,>=3.0.0->en-core-web-md==3.0.0) (2.4.2)\n",
      "Requirement already satisfied: blis<0.8.0,>=0.4.0 in c:\\users\\acer\\anaconda3\\lib\\site-packages (from spacy<3.1.0,>=3.0.0->en-core-web-md==3.0.0) (0.7.5)\n",
      "Requirement already satisfied: packaging>=20.0 in c:\\users\\acer\\anaconda3\\lib\\site-packages (from spacy<3.1.0,>=3.0.0->en-core-web-md==3.0.0) (20.9)\n",
      "Requirement already satisfied: spacy-legacy<3.1.0,>=3.0.5 in c:\\users\\acer\\anaconda3\\lib\\site-packages (from spacy<3.1.0,>=3.0.0->en-core-web-md==3.0.0) (3.0.8)\n",
      "Requirement already satisfied: pyparsing>=2.0.2 in c:\\users\\acer\\anaconda3\\lib\\site-packages (from packaging>=20.0->spacy<3.1.0,>=3.0.0->en-core-web-md==3.0.0) (2.4.7)\n",
      "Requirement already satisfied: smart-open<6.0.0,>=5.0.0 in c:\\users\\acer\\anaconda3\\lib\\site-packages (from pathy>=0.3.5->spacy<3.1.0,>=3.0.0->en-core-web-md==3.0.0) (5.2.1)\n",
      "Requirement already satisfied: typing-extensions>=3.7.4.3 in c:\\users\\acer\\anaconda3\\lib\\site-packages (from pydantic!=1.8,!=1.8.1,<1.9.0,>=1.7.4->spacy<3.1.0,>=3.0.0->en-core-web-md==3.0.0) (3.7.4.3)\n",
      "Requirement already satisfied: idna<3,>=2.5 in c:\\users\\acer\\anaconda3\\lib\\site-packages (from requests<3.0.0,>=2.13.0->spacy<3.1.0,>=3.0.0->en-core-web-md==3.0.0) (2.10)\n",
      "Requirement already satisfied: urllib3<1.27,>=1.21.1 in c:\\users\\acer\\anaconda3\\lib\\site-packages (from requests<3.0.0,>=2.13.0->spacy<3.1.0,>=3.0.0->en-core-web-md==3.0.0) (1.26.4)\n",
      "Requirement already satisfied: certifi>=2017.4.17 in c:\\users\\acer\\anaconda3\\lib\\site-packages (from requests<3.0.0,>=2.13.0->spacy<3.1.0,>=3.0.0->en-core-web-md==3.0.0) (2020.12.5)\n",
      "Requirement already satisfied: chardet<5,>=3.0.2 in c:\\users\\acer\\anaconda3\\lib\\site-packages (from requests<3.0.0,>=2.13.0->spacy<3.1.0,>=3.0.0->en-core-web-md==3.0.0) (4.0.0)\n",
      "Requirement already satisfied: click<7.2.0,>=7.1.1 in c:\\users\\acer\\anaconda3\\lib\\site-packages (from typer<0.4.0,>=0.3.0->spacy<3.1.0,>=3.0.0->en-core-web-md==3.0.0) (7.1.2)\n",
      "Requirement already satisfied: MarkupSafe>=0.23 in c:\\users\\acer\\anaconda3\\lib\\site-packages (from jinja2->spacy<3.1.0,>=3.0.0->en-core-web-md==3.0.0) (1.1.1)\n",
      "[+] Download and installation successful\n",
      "You can now load the package via spacy.load('en_core_web_md')\n"
     ]
    }
   ],
   "source": [
    "#Import Libraries\n",
    "import os\n",
    "import numpy as np\n",
    "import tqdm\n",
    "from tqdm import tqdm\n",
    "import pandas as pd\n",
    "#Text Pre-processing Using SpaCy and gensim\n",
    "from gensim.models import FastText\n",
    "from gensim.models.phrases import Phrases, Phraser\n",
    "from gensim.parsing.preprocessing import remove_stopwords, strip_punctuation, strip_non_alphanum\n",
    "from sklearn.feature_extraction.text import TfidfVectorizer\n",
    "from sklearn.metrics.pairwise import cosine_similarity\n",
    "!python -m spacy download en_core_web_md\n",
    "import spacy\n",
    "from spacy.lang.en import English\n",
    "from spacy import displacy\n",
    "nlp = spacy.load('en_core_web_md')"
   ]
  },
  {
   "cell_type": "code",
   "execution_count": 3,
   "id": "6fde0cc3",
   "metadata": {},
   "outputs": [
    {
     "data": {
      "text/html": [
       "<div>\n",
       "<style scoped>\n",
       "    .dataframe tbody tr th:only-of-type {\n",
       "        vertical-align: middle;\n",
       "    }\n",
       "\n",
       "    .dataframe tbody tr th {\n",
       "        vertical-align: top;\n",
       "    }\n",
       "\n",
       "    .dataframe thead th {\n",
       "        text-align: right;\n",
       "    }\n",
       "</style>\n",
       "<table border=\"1\" class=\"dataframe\">\n",
       "  <thead>\n",
       "    <tr style=\"text-align: right;\">\n",
       "      <th></th>\n",
       "      <th>Source</th>\n",
       "      <th>Volume_No</th>\n",
       "      <th>Chapter_No</th>\n",
       "      <th>Hadith_No</th>\n",
       "      <th>Chapter</th>\n",
       "      <th>Text</th>\n",
       "    </tr>\n",
       "  </thead>\n",
       "  <tbody>\n",
       "    <tr>\n",
       "      <th>0</th>\n",
       "      <td>Sahih Bukhari</td>\n",
       "      <td>1</td>\n",
       "      <td>1</td>\n",
       "      <td>1</td>\n",
       "      <td>Revelation</td>\n",
       "      <td>Narrated by 'Umar bin Al-Khattab:  I heard All...</td>\n",
       "    </tr>\n",
       "    <tr>\n",
       "      <th>1</th>\n",
       "      <td>Sahih Bukhari</td>\n",
       "      <td>1</td>\n",
       "      <td>1</td>\n",
       "      <td>2</td>\n",
       "      <td>Revelation</td>\n",
       "      <td>Narrated by 'Aisha: (the mother of the faithfu...</td>\n",
       "    </tr>\n",
       "    <tr>\n",
       "      <th>2</th>\n",
       "      <td>Sahih Bukhari</td>\n",
       "      <td>1</td>\n",
       "      <td>1</td>\n",
       "      <td>3</td>\n",
       "      <td>Revelation</td>\n",
       "      <td>Narrated by 'Aisha: (the mother of the faithfu...</td>\n",
       "    </tr>\n",
       "    <tr>\n",
       "      <th>3</th>\n",
       "      <td>Sahih Bukhari</td>\n",
       "      <td>1</td>\n",
       "      <td>1</td>\n",
       "      <td>4</td>\n",
       "      <td>Revelation</td>\n",
       "      <td>Narrated by Said bin Jubair: Ibn 'Abbas in the...</td>\n",
       "    </tr>\n",
       "    <tr>\n",
       "      <th>4</th>\n",
       "      <td>Sahih Bukhari</td>\n",
       "      <td>1</td>\n",
       "      <td>1</td>\n",
       "      <td>5</td>\n",
       "      <td>Revelation</td>\n",
       "      <td>Narrated by Ibn 'Abbas: Allah's Apostle was th...</td>\n",
       "    </tr>\n",
       "    <tr>\n",
       "      <th>...</th>\n",
       "      <td>...</td>\n",
       "      <td>...</td>\n",
       "      <td>...</td>\n",
       "      <td>...</td>\n",
       "      <td>...</td>\n",
       "      <td>...</td>\n",
       "    </tr>\n",
       "    <tr>\n",
       "      <th>1050</th>\n",
       "      <td>Sahih Bukhari</td>\n",
       "      <td>2</td>\n",
       "      <td>20</td>\n",
       "      <td>216</td>\n",
       "      <td>Shortening Prayers (At-Taqseer)</td>\n",
       "      <td>Narrated by 'Imran bin Husain (who had piles):...</td>\n",
       "    </tr>\n",
       "    <tr>\n",
       "      <th>1051</th>\n",
       "      <td>Sahih Bukhari</td>\n",
       "      <td>2</td>\n",
       "      <td>20</td>\n",
       "      <td>217</td>\n",
       "      <td>Shortening Prayers (At-Taqseer)</td>\n",
       "      <td>Narrated by 'Abdullah bin Buraida: 'Imran bin ...</td>\n",
       "    </tr>\n",
       "    <tr>\n",
       "      <th>1052</th>\n",
       "      <td>Sahih Bukhari</td>\n",
       "      <td>2</td>\n",
       "      <td>20</td>\n",
       "      <td>218</td>\n",
       "      <td>Shortening Prayers (At-Taqseer)</td>\n",
       "      <td>Narrated by 'Imran bin Husain had piles, so I ...</td>\n",
       "    </tr>\n",
       "    <tr>\n",
       "      <th>1053</th>\n",
       "      <td>Sahih Bukhari</td>\n",
       "      <td>2</td>\n",
       "      <td>20</td>\n",
       "      <td>219</td>\n",
       "      <td>Shortening Prayers (At-Taqseer)</td>\n",
       "      <td>Narrated by 'Aisha (the mother of the faithful...</td>\n",
       "    </tr>\n",
       "    <tr>\n",
       "      <th>1054</th>\n",
       "      <td>Sahih Bukhari</td>\n",
       "      <td>2</td>\n",
       "      <td>20</td>\n",
       "      <td>220</td>\n",
       "      <td>Shortening Prayers (At-Taqseer)</td>\n",
       "      <td>Narrated by 'Aisha (the mother of the faithful...</td>\n",
       "    </tr>\n",
       "  </tbody>\n",
       "</table>\n",
       "<p>1055 rows × 6 columns</p>\n",
       "</div>"
      ],
      "text/plain": [
       "             Source  Volume_No  Chapter_No  Hadith_No  \\\n",
       "0     Sahih Bukhari          1           1          1   \n",
       "1     Sahih Bukhari          1           1          2   \n",
       "2     Sahih Bukhari          1           1          3   \n",
       "3     Sahih Bukhari          1           1          4   \n",
       "4     Sahih Bukhari          1           1          5   \n",
       "...             ...        ...         ...        ...   \n",
       "1050  Sahih Bukhari          2          20        216   \n",
       "1051  Sahih Bukhari          2          20        217   \n",
       "1052  Sahih Bukhari          2          20        218   \n",
       "1053  Sahih Bukhari          2          20        219   \n",
       "1054  Sahih Bukhari          2          20        220   \n",
       "\n",
       "                              Chapter  \\\n",
       "0                          Revelation   \n",
       "1                          Revelation   \n",
       "2                          Revelation   \n",
       "3                          Revelation   \n",
       "4                          Revelation   \n",
       "...                               ...   \n",
       "1050  Shortening Prayers (At-Taqseer)   \n",
       "1051  Shortening Prayers (At-Taqseer)   \n",
       "1052  Shortening Prayers (At-Taqseer)   \n",
       "1053  Shortening Prayers (At-Taqseer)   \n",
       "1054  Shortening Prayers (At-Taqseer)   \n",
       "\n",
       "                                                   Text  \n",
       "0     Narrated by 'Umar bin Al-Khattab:  I heard All...  \n",
       "1     Narrated by 'Aisha: (the mother of the faithfu...  \n",
       "2     Narrated by 'Aisha: (the mother of the faithfu...  \n",
       "3     Narrated by Said bin Jubair: Ibn 'Abbas in the...  \n",
       "4     Narrated by Ibn 'Abbas: Allah's Apostle was th...  \n",
       "...                                                 ...  \n",
       "1050  Narrated by 'Imran bin Husain (who had piles):...  \n",
       "1051  Narrated by 'Abdullah bin Buraida: 'Imran bin ...  \n",
       "1052  Narrated by 'Imran bin Husain had piles, so I ...  \n",
       "1053  Narrated by 'Aisha (the mother of the faithful...  \n",
       "1054  Narrated by 'Aisha (the mother of the faithful...  \n",
       "\n",
       "[1055 rows x 6 columns]"
      ]
     },
     "execution_count": 3,
     "metadata": {},
     "output_type": "execute_result"
    }
   ],
   "source": [
    "#Get the Data (Test on 3 chapters first)\n",
    "data = pd.read_csv(r\"C:\\Users\\Acer\\anaconda3\\activity\\Sahih Bukhari Dataset (20 Chapters).csv\") \n",
    "data"
   ]
  },
  {
   "cell_type": "code",
   "execution_count": 4,
   "id": "621c5793",
   "metadata": {},
   "outputs": [],
   "source": [
    "# Use spaCy to split each of the documents into a list of words (tokenization).\n",
    "# Clean the data by removing stop words, punctuation and converting to lowercase using the Gensim library\n",
    "\n",
    "#creates a list of documents with a list of words inside:\n",
    "text = []\n",
    "for i in data.Text.values:\n",
    "  doc = nlp(remove_stopwords(strip_punctuation(strip_non_alphanum(str(i).lower()))))\n",
    "  tokens = [token.text for token in doc]\n",
    "  text.append(tokens)"
   ]
  },
  {
   "cell_type": "code",
   "execution_count": 5,
   "id": "988300a6",
   "metadata": {},
   "outputs": [],
   "source": [
    "# Create the relevant phrases from the list of sentences:\n",
    "phrases = Phrases(text, threshold = 10, min_count=5)\n",
    "# The Phraser object is used from now on to transform sentences\n",
    "bigram = Phraser(phrases)\n",
    "# Applying the Phraser to transform our sentences is simply\n",
    "tokens = list(bigram[text])"
   ]
  },
  {
   "cell_type": "code",
   "execution_count": 6,
   "id": "9535712b",
   "metadata": {},
   "outputs": [],
   "source": [
    "#Train the fastText Model\n",
    "\n",
    "model = FastText(tokens, vector_size=100, window=3, min_count=1, epochs=10, sorted_vocab=1)"
   ]
  },
  {
   "cell_type": "code",
   "execution_count": 7,
   "id": "fd1245f4",
   "metadata": {},
   "outputs": [
    {
     "name": "stderr",
     "output_type": "stream",
     "text": [
      "100%|██████████| 1055/1055 [00:00<00:00, 211156.27it/s]\n",
      "C:\\Users\\ACER\\anaconda3\\lib\\site-packages\\sklearn\\utils\\deprecation.py:87: FutureWarning: Function get_feature_names is deprecated; get_feature_names is deprecated in 1.0 and will be removed in 1.2. Please use get_feature_names_out instead.\n",
      "  warnings.warn(msg, category=FutureWarning)\n"
     ]
    }
   ],
   "source": [
    "#Create TF-IDF Scores for each Word\n",
    "\n",
    "#Needs a list of lists for words and docs along with a fasttext 'model'\n",
    "text = []\n",
    "for i in tqdm(tokens):\n",
    "  string = ' '.join(i)\n",
    "  text.append(string)\n",
    "tf_idf_vect = TfidfVectorizer(stop_words=None)\n",
    "final_tf_idf = tf_idf_vect.fit_transform(text)\n",
    "tfidf_feat = tf_idf_vect.get_feature_names()"
   ]
  },
  {
   "cell_type": "code",
   "execution_count": 8,
   "id": "624f0bf1",
   "metadata": {},
   "outputs": [
    {
     "name": "stderr",
     "output_type": "stream",
     "text": [
      "100%|██████████| 1055/1055 [00:10<00:00, 100.64it/s]"
     ]
    },
    {
     "name": "stdout",
     "output_type": "stream",
     "text": [
      "errors noted: 1\n"
     ]
    },
    {
     "name": "stderr",
     "output_type": "stream",
     "text": [
      "\n"
     ]
    }
   ],
   "source": [
    "#Apply the Scores to the Vectors across each Document\n",
    "\n",
    "tfidf_sent_vectors = []; # the tfidf-w2v for each sentence/review is stored in this list\n",
    "row=0;\n",
    "errors=0\n",
    "for sent in tqdm(tokens): # for each review/sentence\n",
    "    sent_vec = np.zeros(100) # as word vectors are of zero length\n",
    "    weight_sum =0; # num of words with a valid vector in the sentence/review\n",
    "    for word in sent: # for each word in a review/sentence\n",
    "        try:\n",
    "            vec = model.wv[word]\n",
    "            # obtain the tf_idfidf of a word in a sentence/review\n",
    "            tfidf = final_tf_idf [row, tfidf_feat.index(word)]\n",
    "            sent_vec += (vec * tfidf)\n",
    "            weight_sum += tfidf\n",
    "        except:\n",
    "            errors =+1\n",
    "            pass\n",
    "    sent_vec /= weight_sum\n",
    "    #print(np.isnan(np.sum(sent_vec)))\n",
    "\n",
    "    tfidf_sent_vectors.append(sent_vec)\n",
    "    row += 1\n",
    "print('errors noted: '+str(errors))"
   ]
  },
  {
   "cell_type": "code",
   "execution_count": 9,
   "id": "428ca6f9",
   "metadata": {},
   "outputs": [],
   "source": [
    "# join these vectors back to the dataframe:\n",
    "data['FT_tfidf'] = tfidf_sent_vectors"
   ]
  },
  {
   "cell_type": "code",
   "execution_count": 21,
   "id": "1ee90467",
   "metadata": {},
   "outputs": [
    {
     "data": {
      "text/plain": [
       "array([-0.06987305,  0.4741976 , -0.6475395 ,  0.39263478,  0.56583434,\n",
       "        0.17668872,  0.642225  ,  0.01475475,  0.34737426, -0.6311876 ,\n",
       "       -0.2025631 ,  0.04484559, -0.8289995 ,  0.36812982,  0.09865559,\n",
       "       -0.13964562,  0.5018593 , -0.29955   , -0.33617982, -0.16306382,\n",
       "       -0.682048  ,  0.06868511, -0.3024476 , -0.05793094,  0.00243659,\n",
       "       -0.6006213 , -0.50168467,  0.0079542 ,  0.4247161 , -0.04038078,\n",
       "        0.1105122 ,  0.2602314 ,  0.91100353, -0.1385204 , -0.17607686,\n",
       "        0.4633892 ,  0.6164109 ,  0.15726954, -0.57513267,  0.22892094,\n",
       "       -0.12922685, -0.10558337,  0.4025497 , -0.54124427, -0.16490866,\n",
       "       -0.01009859, -0.2361288 ,  0.23114832,  0.2411838 , -0.093402  ,\n",
       "        0.24413407,  0.16332717,  0.5229539 ,  0.0597644 ,  0.20068686,\n",
       "        0.45073047, -0.1624035 , -0.3003649 , -0.2641128 , -0.44358578,\n",
       "        0.0734899 , -0.1792657 , -0.37934962,  0.5425251 , -0.05034773,\n",
       "       -0.12800488,  0.09676318,  0.19764064,  0.1379782 ,  0.7040809 ,\n",
       "        0.21830992, -0.25302818,  0.28929338,  0.20868678,  0.305556  ,\n",
       "        0.05300615,  0.01121622,  0.0514967 , -0.029999  ,  0.7633624 ,\n",
       "       -0.02278492, -0.42512667, -0.85884976, -0.21083696, -0.5819567 ,\n",
       "        0.08172662, -0.00933183, -0.17394626, -0.51635087, -0.02906678,\n",
       "       -0.5234269 ,  0.06983498, -0.05681408, -0.4558839 , -0.5412824 ,\n",
       "        0.8698817 , -0.05718579, -0.3267775 , -0.06887689,  0.46552524],\n",
       "      dtype=float32)"
      ]
     },
     "execution_count": 21,
     "metadata": {},
     "output_type": "execute_result"
    }
   ],
   "source": [
    "# Check word embedding for a perticular word\n",
    "model.wv['medina']"
   ]
  },
  {
   "cell_type": "code",
   "execution_count": 22,
   "id": "8100c73a",
   "metadata": {},
   "outputs": [
    {
     "data": {
      "text/plain": [
       "(100,)"
      ]
     },
     "execution_count": 22,
     "metadata": {},
     "output_type": "execute_result"
    }
   ],
   "source": [
    "#Dimension must be 100 due to set the vector_size=100\n",
    "model.wv['medina'].shape"
   ]
  },
  {
   "cell_type": "code",
   "execution_count": 18,
   "id": "2a1a2a33",
   "metadata": {},
   "outputs": [
    {
     "data": {
      "text/plain": [
       "[('heaven', 0.9999942779541016),\n",
       " ('heavens', 0.9999906420707703),\n",
       " ('heavily', 0.9999815225601196),\n",
       " ('graves', 0.9999745488166809),\n",
       " ('health', 0.9999741315841675),\n",
       " ('hen', 0.9999733567237854),\n",
       " ('beneath', 0.9999719858169556),\n",
       " ('behaves', 0.9999701976776123),\n",
       " ('lavatories', 0.9999698400497437),\n",
       " ('hearts', 0.9999693036079407)]"
      ]
     },
     "execution_count": 18,
     "metadata": {},
     "output_type": "execute_result"
    }
   ],
   "source": [
    "# Check the similarity of the model (wv=words vector)\n",
    "# Try misspelling heaven as ‘heaveen’\n",
    "\n",
    "similarities = model.wv.most_similar(restrict_vocab=10000, positive=['heaveen'])\n",
    "similarities"
   ]
  },
  {
   "cell_type": "code",
   "execution_count": 23,
   "id": "f26dd909",
   "metadata": {},
   "outputs": [
    {
     "data": {
      "text/plain": [
       "0.9997079"
      ]
     },
     "execution_count": 23,
     "metadata": {},
     "output_type": "execute_result"
    }
   ],
   "source": [
    "# Check top 10 similarity score between two word\n",
    "sim_score = model.wv.similarity('medina', 'virtue')\n",
    "sim_score"
   ]
  },
  {
   "cell_type": "code",
   "execution_count": 28,
   "id": "7bfdc6ce",
   "metadata": {},
   "outputs": [
    {
     "data": {
      "text/plain": [
       "[('24', -0.5633124709129333),\n",
       " ('488', -0.5641019344329834),\n",
       " ('c', -0.7189003825187683),\n",
       " ('657', -0.7396385669708252),\n",
       " ('74', -0.8287102580070496),\n",
       " ('narrated_abu', -0.8488999009132385),\n",
       " ('39', -0.8492275476455688),\n",
       " ('narrated_abdullah', -0.853453516960144),\n",
       " ('36', -0.8542405366897583),\n",
       " ('narrated_nafi', -0.8569827675819397)]"
      ]
     },
     "execution_count": 28,
     "metadata": {},
     "output_type": "execute_result"
    }
   ],
   "source": [
    "# Most opposite to a word\n",
    "model.wv.most_similar(negative=[\"medina\"])"
   ]
  },
  {
   "cell_type": "code",
   "execution_count": 29,
   "id": "b97b390e",
   "metadata": {},
   "outputs": [
    {
     "name": "stdout",
     "output_type": "stream",
     "text": [
      "\n",
      "\n",
      "Accuracy: 0.9999999999999998\n",
      "Book: Belief\n",
      "Volume: 1\n",
      "Hadith No: 40\n",
      "\n",
      "\u001b[1;32mNarrated by Abu Huraira: Allah's Apostle said, \"If any one of you improve (follows strictly) his Islamic religion then his good deeds will be rewarded ten times to seven hundred times for each good deed and a bad deed will be recorded as it is.\"\u001b[0m\n",
      "Source: Sahih Bukhari\n",
      "\n",
      "\n",
      "Accuracy: 0.9999898313058528\n",
      "Book: Ablution (Wudu')\n",
      "Volume: 1\n",
      "Hadith No: 184\n",
      "\n",
      "\u001b[1;32mNarrated by Asma' bint Abu Bakr: I came to 'Aisha the wife of the Prophet during the solar eclipse. The people were standing and offering the prayer and she was also praying. I asked her, \"What is wrong with the people?\" She beckoned with her hand towards the sky and said, \"Subhan Allah.\" I asked her, \"Is there a sign?\" She pointed out, \"Yes.\" So I, too, stood for the prayer till I fell unconscious and later on I poured water on my head. After the prayer, Allah's Apostle praised and glorified Allah and said, \"Just now I have seen something which I never saw before at this place of mine, including Paradise and Hell. I have been inspired (and have understood) that you will be put to trials in your graves and these trials will be like the trials of Ad-Dajjal, or nearly like it (the sub narrator is not sure of what Asma' said). Angels will come to every one of you and ask, 'What do you know about this man?' A believer will reply, 'He is Muhammad, Allah's Apostle , and he came to us with self-evident truth and guidance. So we accepted his teaching, believed and followed him.' Then the angels will say to him to sleep in peace as they have come to know that he was a believer. On the other hand a hypocrite or a doubtful person will reply, 'I do not know but heard the people saying something and so I said the same.' \"\u001b[0m\n",
      "Source: Sahih Bukhari\n",
      "\n",
      "\n",
      "Accuracy: 0.9999893425772173\n",
      "Book: Menstrual Periods\n",
      "Volume: 1\n",
      "Hadith No: 321\n",
      "\n",
      "\u001b[1;32mNarrated by Aiyub: Hafsa said, 'We used to forbid our young women to go out for the two 'Id prayers. A woman came and stayed at the palace of Bani Khalaf and she narrated about her sister whose husband took part in twelve holy battles along with the Prophet and her sister was with her husband in six (out of these twelve). She (the woman's sister) said, \"We used to treat the wounded, look after the patients and once I asked the Prophet, 'Is there any harm for any of us to stay at home if she doesn't have a veil?' He said, 'She should cover herself with the veil of her companion and should participate in the good deeds and in the religious gathering of the Muslims.' When Um 'Atiya came I asked her whether she had heard it from the Prophet. She replied, \"Yes. May my father be sacrificed for him (the Prophet)! (Whenever she mentioned the Prophet she used to say, 'May my father be sacrificed for him) I have heard the Prophet saying, 'The unmarried young virgins and the mature girl who stay often screened or the young unmarried virgins who often stay screened and the menstruating women should come out and participate in the good deeds as well as the religious gathering of the faithful believers but the menstruating women should keep away from the Musalla (praying place).' \" Hafsa asked Um 'Atiya surprisingly, \"Do you say the menstruating women?\" She replied, \"Doesn't a menstruating woman attend 'Arafat (Hajj) and such and such (other deeds)?\"\u001b[0m\n",
      "Source: Sahih Bukhari\n",
      "\n",
      "\n",
      "Accuracy: 0.9999891203099138\n",
      "Book: Prayer (Salat)\n",
      "Volume: 1\n",
      "Hadith No: 364\n",
      "\n",
      "\u001b[1;32mNarrated by Abu Huraira: The Prophet forbade two kinds of sales i.e. Al-Limais and An-Nibadh (the former is a kind of sale in which the deal is completed if the buyer touches a thing, without seeing or checking it properly and the latter is a kind of a sale in which the deal is completed when the seller throws a thing towards the buyer giving him no opportunity to see, touch or check it) and (the Prophet forbade) also Ishtimal-As-Samma' and Al-Ihtiba' in a single garment.\u001b[0m\n",
      "Source: Sahih Bukhari\n",
      "\n",
      "\n",
      "Accuracy: 0.9999884585274461\n",
      "Book: Knowledge\n",
      "Volume: 1\n",
      "Hadith No: 122\n",
      "\n",
      "\u001b[1;32mNarrated by Jarir: The Prophet said to me during Hajjat-al-Wida': Let the people keep quiet and listen. Then he said (addressing the people), \"Do not (become infidels) revert to disbelief after me by striking the necks (cutting the throats) of one another (killing each other).\"\u001b[0m\n",
      "Source: Sahih Bukhari\n"
     ]
    }
   ],
   "source": [
    "#Find Similar Documents (Query = good deeds)\n",
    "from simple_colors import *\n",
    "\n",
    "queryText = 'good deeds' \n",
    "\n",
    "query = [data.loc[data.Text.str.contains(queryText)].iloc[0]['FT_tfidf']]\n",
    "query = np.array(list(query))\n",
    "query = np.nan_to_num(query)\n",
    "\n",
    "vectors = np.array(list(data.FT_tfidf.values))\n",
    "vectors = np.nan_to_num(vectors)\n",
    "\n",
    "cosine_similarities = pd.Series(cosine_similarity(query, vectors).flatten())\n",
    "\n",
    "for i,j in cosine_similarities.nlargest(5).iteritems():\n",
    "  print (\"\\n\")\n",
    "  print(\"Accuracy: \" + str(j))\n",
    "  #print(\"Index: \"+str(i))\n",
    "  print (\"Book: \" + data.Chapter.iloc[i])\n",
    "  print (\"Volume: \" + str(data.Volume_No.iloc[i]))\n",
    "  print (\"Hadith No: \" + str(data.Hadith_No.iloc[i]))\n",
    "  print (\"\\n\" + (green(data.Text.iloc[i],'bold')))\n",
    "  print (\"Source: \" + data.Source.iloc[i])"
   ]
  }
 ],
 "metadata": {
  "kernelspec": {
   "display_name": "Python 3",
   "language": "python",
   "name": "python3"
  },
  "language_info": {
   "codemirror_mode": {
    "name": "ipython",
    "version": 3
   },
   "file_extension": ".py",
   "mimetype": "text/x-python",
   "name": "python",
   "nbconvert_exporter": "python",
   "pygments_lexer": "ipython3",
   "version": "3.8.8"
  }
 },
 "nbformat": 4,
 "nbformat_minor": 5
}
